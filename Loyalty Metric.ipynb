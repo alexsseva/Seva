{
 "cells": [
  {
   "cell_type": "code",
   "execution_count": 33,
   "id": "479ac3ae",
   "metadata": {},
   "outputs": [],
   "source": [
    "import pandas as pd\n",
    "\n",
    "df = pd.read_json('transaction-data-adhoc-analysis.json')"
   ]
  },
  {
   "cell_type": "code",
   "execution_count": 34,
   "id": "e314051f",
   "metadata": {},
   "outputs": [],
   "source": [
    "df['date'] = pd.to_datetime(df['transaction_date'])\n",
    "df['date'] = df['date'].dt.strftime('%Y-%m')"
   ]
  },
  {
   "cell_type": "code",
   "execution_count": 35,
   "id": "33dfc7e8",
   "metadata": {},
   "outputs": [],
   "source": [
    "jan = df[df['date'] == '2022-01']\n",
    "feb = df[df['date'] == '2022-02']\n",
    "march = df[df['date'] == '2022-03']\n",
    "april = df[df['date'] == '2022-04']\n",
    "may = df[df['date'] == '2022-05']\n",
    "june = df[df['date'] == '2022-06']"
   ]
  },
  {
   "cell_type": "code",
   "execution_count": 36,
   "id": "32895d9b",
   "metadata": {},
   "outputs": [
    {
     "data": {
      "text/html": [
       "<div>\n",
       "<style scoped>\n",
       "    .dataframe tbody tr th:only-of-type {\n",
       "        vertical-align: middle;\n",
       "    }\n",
       "\n",
       "    .dataframe tbody tr th {\n",
       "        vertical-align: top;\n",
       "    }\n",
       "\n",
       "    .dataframe thead th {\n",
       "        text-align: right;\n",
       "    }\n",
       "</style>\n",
       "<table border=\"1\" class=\"dataframe\">\n",
       "  <thead>\n",
       "    <tr style=\"text-align: right;\">\n",
       "      <th>month</th>\n",
       "      <th>January</th>\n",
       "      <th>February</th>\n",
       "      <th>March</th>\n",
       "      <th>April</th>\n",
       "      <th>May</th>\n",
       "      <th>June</th>\n",
       "    </tr>\n",
       "  </thead>\n",
       "  <tbody>\n",
       "    <tr>\n",
       "      <th>repeaters</th>\n",
       "      <td>0</td>\n",
       "      <td>10773</td>\n",
       "      <td>11108</td>\n",
       "      <td>10920</td>\n",
       "      <td>10877</td>\n",
       "      <td>11050</td>\n",
       "    </tr>\n",
       "  </tbody>\n",
       "</table>\n",
       "</div>"
      ],
      "text/plain": [
       "month      January  February  March  April    May   June\n",
       "repeaters        0     10773  11108  10920  10877  11050"
      ]
     },
     "execution_count": 36,
     "metadata": {},
     "output_type": "execute_result"
    }
   ],
   "source": [
    "# counts customer per month\n",
    "test = df.groupby(pd.Grouper(key='date', axis=0)).count()\n",
    "\n",
    "# create new table with months and number of repeaters\n",
    "test2 = pd.DataFrame(index=test.index)\n",
    "\n",
    "# create repeaters column\n",
    "test2['repeaters'] = \"\"\n",
    "repeaters = []\n",
    "month = 1\n",
    "currentmonth = \"2022-02\"\n",
    "lastmonth = \"2022-01\"\n",
    "\n",
    "for row in range(len(test.index)):\n",
    "    x = df[df[\"date\"] == lastmonth][df[df[\"date\"] == lastmonth][\"name\"].isin(df[df[\"date\"] == currentmonth][\"name\"])].count()\n",
    "    if month == 1:\n",
    "        repeaters.append(0)\n",
    "    else:\n",
    "        repeaters.append(x['date'])\n",
    "    currentmonth = currentmonth[:len(currentmonth)-1] + str(month + 1)\n",
    "    lastmonth = lastmonth[:len(lastmonth)-1] + str(month)\n",
    "    month = month + 1\n",
    "    \n",
    "test2['repeaters'] = repeaters\n",
    "test2[\"month\"] = [\"January\", \"February\", \"March\", \"April\", \"May\", \"June\"]\n",
    "test2 = test2.set_index('month')\n",
    "test2 = test2.T\n",
    "test2"
   ]
  },
  {
   "cell_type": "code",
   "execution_count": 37,
   "id": "a03e71a1",
   "metadata": {},
   "outputs": [
    {
     "data": {
      "text/html": [
       "<div>\n",
       "<style scoped>\n",
       "    .dataframe tbody tr th:only-of-type {\n",
       "        vertical-align: middle;\n",
       "    }\n",
       "\n",
       "    .dataframe tbody tr th {\n",
       "        vertical-align: top;\n",
       "    }\n",
       "\n",
       "    .dataframe thead th {\n",
       "        text-align: right;\n",
       "    }\n",
       "</style>\n",
       "<table border=\"1\" class=\"dataframe\">\n",
       "  <thead>\n",
       "    <tr style=\"text-align: right;\">\n",
       "      <th>month</th>\n",
       "      <th>January</th>\n",
       "      <th>February</th>\n",
       "      <th>March</th>\n",
       "      <th>April</th>\n",
       "      <th>May</th>\n",
       "      <th>June</th>\n",
       "    </tr>\n",
       "  </thead>\n",
       "  <tbody>\n",
       "    <tr>\n",
       "      <th>inactive</th>\n",
       "      <td>0</td>\n",
       "      <td>2915</td>\n",
       "      <td>2864</td>\n",
       "      <td>2982</td>\n",
       "      <td>2902</td>\n",
       "      <td>2814</td>\n",
       "    </tr>\n",
       "  </tbody>\n",
       "</table>\n",
       "</div>"
      ],
      "text/plain": [
       "month     January  February  March  April   May  June\n",
       "inactive        0      2915   2864   2982  2902  2814"
      ]
     },
     "execution_count": 37,
     "metadata": {},
     "output_type": "execute_result"
    }
   ],
   "source": [
    "# create inactive column\n",
    "inactive = pd.DataFrame(index=test.index)\n",
    "inactive['inactive'] = \"\"\n",
    "inactiveCustomers = []\n",
    "month = 1\n",
    "currentmonth = \"2022-02\"\n",
    "lastmonth = \"2022-01\"\n",
    "\n",
    "for row in range(len(test.index)):\n",
    "    x = df[df[\"date\"] == lastmonth][-df[df[\"date\"] == lastmonth][\"name\"].isin(df[df[\"date\"] == currentmonth][\"name\"])].count()\n",
    "    if month == 1:\n",
    "        inactiveCustomers.append(0)\n",
    "    else:\n",
    "        inactiveCustomers.append(x['date'])\n",
    "    currentmonth = currentmonth[:len(currentmonth)-1] + str(month + 1)\n",
    "    lastmonth = lastmonth[:len(lastmonth)-1] + str(month)\n",
    "    month = month + 1\n",
    "    \n",
    "inactive['inactive'] = inactiveCustomers\n",
    "inactive[\"month\"] = [\"January\", \"February\", \"March\", \"April\", \"May\", \"June\"]\n",
    "inactive = inactive.set_index('month')\n",
    "inactive = inactive.T\n",
    "inactive"
   ]
  },
  {
   "cell_type": "code",
   "execution_count": 38,
   "id": "bdf59609",
   "metadata": {
    "scrolled": false
   },
   "outputs": [
    {
     "data": {
      "text/html": [
       "<div>\n",
       "<style scoped>\n",
       "    .dataframe tbody tr th:only-of-type {\n",
       "        vertical-align: middle;\n",
       "    }\n",
       "\n",
       "    .dataframe tbody tr th {\n",
       "        vertical-align: top;\n",
       "    }\n",
       "\n",
       "    .dataframe thead th {\n",
       "        text-align: right;\n",
       "    }\n",
       "</style>\n",
       "<table border=\"1\" class=\"dataframe\">\n",
       "  <thead>\n",
       "    <tr style=\"text-align: right;\">\n",
       "      <th>month</th>\n",
       "      <th>January</th>\n",
       "      <th>February</th>\n",
       "      <th>March</th>\n",
       "      <th>April</th>\n",
       "      <th>May</th>\n",
       "      <th>June</th>\n",
       "    </tr>\n",
       "  </thead>\n",
       "  <tbody>\n",
       "    <tr>\n",
       "      <th>repeaters</th>\n",
       "      <td>0</td>\n",
       "      <td>10773</td>\n",
       "      <td>11108</td>\n",
       "      <td>10920</td>\n",
       "      <td>10877</td>\n",
       "      <td>11050</td>\n",
       "    </tr>\n",
       "    <tr>\n",
       "      <th>inactive</th>\n",
       "      <td>0</td>\n",
       "      <td>2915</td>\n",
       "      <td>2864</td>\n",
       "      <td>2982</td>\n",
       "      <td>2902</td>\n",
       "      <td>2814</td>\n",
       "    </tr>\n",
       "  </tbody>\n",
       "</table>\n",
       "</div>"
      ],
      "text/plain": [
       "month      January  February  March  April    May   June\n",
       "repeaters        0     10773  11108  10920  10877  11050\n",
       "inactive         0      2915   2864   2982   2902   2814"
      ]
     },
     "execution_count": 38,
     "metadata": {},
     "output_type": "execute_result"
    }
   ],
   "source": [
    "customers = pd.DataFrame()\n",
    "customers['month'] = [\"January\", \"February\", \"March\", \"April\", \"May\", \"June\"]\n",
    "customers['repeaters'] = repeaters\n",
    "customers['inactive'] = inactiveCustomers\n",
    "customers = customers.set_index('month').T\n",
    "customers"
   ]
  },
  {
   "cell_type": "code",
   "execution_count": 39,
   "id": "ff8243fd",
   "metadata": {},
   "outputs": [
    {
     "data": {
      "text/html": [
       "<div>\n",
       "<style scoped>\n",
       "    .dataframe tbody tr th:only-of-type {\n",
       "        vertical-align: middle;\n",
       "    }\n",
       "\n",
       "    .dataframe tbody tr th {\n",
       "        vertical-align: top;\n",
       "    }\n",
       "\n",
       "    .dataframe thead th {\n",
       "        text-align: right;\n",
       "    }\n",
       "</style>\n",
       "<table border=\"1\" class=\"dataframe\">\n",
       "  <thead>\n",
       "    <tr style=\"text-align: right;\">\n",
       "      <th></th>\n",
       "      <th>engaged</th>\n",
       "    </tr>\n",
       "    <tr>\n",
       "      <th>month</th>\n",
       "      <th></th>\n",
       "    </tr>\n",
       "  </thead>\n",
       "  <tbody>\n",
       "    <tr>\n",
       "      <th>January</th>\n",
       "      <td>6588</td>\n",
       "    </tr>\n",
       "    <tr>\n",
       "      <th>February</th>\n",
       "      <td>5172</td>\n",
       "    </tr>\n",
       "    <tr>\n",
       "      <th>March</th>\n",
       "      <td>4126</td>\n",
       "    </tr>\n",
       "    <tr>\n",
       "      <th>April</th>\n",
       "      <td>3289</td>\n",
       "    </tr>\n",
       "    <tr>\n",
       "      <th>May</th>\n",
       "      <td>2667</td>\n",
       "    </tr>\n",
       "    <tr>\n",
       "      <th>June</th>\n",
       "      <td>2190</td>\n",
       "    </tr>\n",
       "  </tbody>\n",
       "</table>\n",
       "</div>"
      ],
      "text/plain": [
       "          engaged\n",
       "month            \n",
       "January      6588\n",
       "February     5172\n",
       "March        4126\n",
       "April        3289\n",
       "May          2667\n",
       "June         2190"
      ]
     },
     "execution_count": 39,
     "metadata": {},
     "output_type": "execute_result"
    }
   ],
   "source": [
    "#getting engaged customers\n",
    "engaged = pd.DataFrame()\n",
    "engaged['engaged'] = \"\"\n",
    "engagedCustomers = ()\n",
    "\n",
    "engaged0 = jan[jan['name'].isin(jan['name'])]\n",
    "engaged1 = jan[jan['name'].isin(feb['name'])]\n",
    "engaged2 = engaged1[engaged1['name'].isin(march['name'])]\n",
    "engaged3 = engaged2[engaged2['name'].isin(april['name'])]\n",
    "engaged4 = engaged3[engaged3['name'].isin(may['name'])]\n",
    "engaged5 = engaged4[engaged4['name'].isin(june['name'])]\n",
    "\n",
    "engagedCustomers = [len(engaged0.groupby(['name', 'date'])), len(engaged1.groupby(['name', 'date'])), len(engaged2.groupby(['name', 'date'])), len(engaged3.groupby(['name', 'date'])), len(engaged4.groupby(['name', 'date'])), len(engaged5.groupby(['name', 'date']))]\n",
    "\n",
    "engaged['engaged'] = engagedCustomers\n",
    "engaged[\"month\"] = [\"January\", \"February\", \"March\", \"April\", \"May\", \"June\"]\n",
    "engaged = engaged.set_index('month').T\n",
    "engaged = engaged.T\n",
    "engaged"
   ]
  },
  {
   "cell_type": "code",
   "execution_count": null,
   "id": "ee3ad5e9",
   "metadata": {},
   "outputs": [],
   "source": []
  },
  {
   "cell_type": "code",
   "execution_count": null,
   "id": "b869fa28",
   "metadata": {},
   "outputs": [],
   "source": []
  },
  {
   "cell_type": "code",
   "execution_count": null,
   "id": "0235376b",
   "metadata": {},
   "outputs": [],
   "source": []
  },
  {
   "cell_type": "code",
   "execution_count": null,
   "id": "0c514d7f",
   "metadata": {},
   "outputs": [],
   "source": []
  },
  {
   "cell_type": "code",
   "execution_count": null,
   "id": "b0b15095",
   "metadata": {},
   "outputs": [],
   "source": []
  },
  {
   "cell_type": "code",
   "execution_count": null,
   "id": "f412bd5e",
   "metadata": {},
   "outputs": [],
   "source": []
  }
 ],
 "metadata": {
  "kernelspec": {
   "display_name": "Python 3 (ipykernel)",
   "language": "python",
   "name": "python3"
  },
  "language_info": {
   "codemirror_mode": {
    "name": "ipython",
    "version": 3
   },
   "file_extension": ".py",
   "mimetype": "text/x-python",
   "name": "python",
   "nbconvert_exporter": "python",
   "pygments_lexer": "ipython3",
   "version": "3.9.12"
  }
 },
 "nbformat": 4,
 "nbformat_minor": 5
}
