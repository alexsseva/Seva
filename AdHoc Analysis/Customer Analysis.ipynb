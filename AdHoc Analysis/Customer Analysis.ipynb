{
 "cells": [
  {
   "cell_type": "code",
   "execution_count": 3,
   "id": "479ac3ae",
   "metadata": {},
   "outputs": [],
   "source": [
    "import pandas as pd\n",
    "\n",
    "df = pd.read_json('transaction-data-adhoc-analysis.json')\n",
    "\n",
    "# convert transaction_date to yyyy-mm format\n",
    "df['transaction_date'] = pd.to_datetime(df['transaction_date'])\n",
    "df['transaction_date'] = df['transaction_date'].dt.strftime('%Y-%m')\n",
    "\n",
    "# determine start month of transaction date\n",
    "min_month = df['transaction_date'].values.astype('datetime64[M]').min()\n",
    "\n",
    "# determine end month of transaction date\n",
    "max_month = df['transaction_date'].values.astype('datetime64[M]').max()\n",
    "\n",
    "# create table with each possible month in the entire period of transaction\n",
    "df_period = pd.DataFrame(pd.date_range(min_month,max_month,freq='MS'))\n",
    "df_period.columns = ['month']\n",
    "df_period['month'] = df_period['month'].dt.strftime('%Y-%m')\n",
    "\n",
    "# create transaction month column\n",
    "df['month'] = pd.DatetimeIndex(df['transaction_date']).month"
   ]
  },
  {
   "cell_type": "code",
   "execution_count": 4,
   "id": "e314051f",
   "metadata": {},
   "outputs": [],
   "source": [
    "# create list of number of repeating customers per month\n",
    "repeating = []\n",
    "def repeating_customers(lastmonth, currentmonth, df):\n",
    "    monthly_customers = df[df['month'] == lastmonth][df[df['month'] == lastmonth][\"name\"].isin(df[df[\"month\"] == currentmonth][\"name\"])]\n",
    "    unique = monthly_customers.groupby(['name'])['month'].min().reset_index()\n",
    "    return len(unique)\n",
    "\n",
    "lastmonth = 0\n",
    "currentmonth = 1\n",
    "for i in range(len(df_period)):\n",
    "    x = repeating_customers(lastmonth + i, currentmonth + i, df)\n",
    "    repeating.append(x)\n",
    "\n",
    "# create list of number of inactive customers per month\n",
    "inactive = []\n",
    "def inactive_customers(lastmonth, currentmonth, df):\n",
    "    monthly_customers = df[df['month'] == lastmonth][~df[df['month'] == lastmonth][\"name\"].isin(df[df[\"month\"] == currentmonth][\"name\"])]\n",
    "    unique = monthly_customers.groupby(['name'])['month'].min().reset_index()\n",
    "    return len(unique)\n",
    "\n",
    "lastmonth = 0\n",
    "currentmonth = 1\n",
    "for i in range(len(df_period)):\n",
    "    x = inactive_customers(lastmonth + i, currentmonth + i, df)\n",
    "    inactive.append(x)\n",
    "\n",
    "# create list of number of engaged customers per month\n",
    "engaged = []\n",
    "# create sub-tables for each month\n",
    "def subtable(month, df):\n",
    "    temp = df[df['month'] == month]\n",
    "    #print(temp.to_numpy())\n",
    "    return  temp\n",
    "jan = subtable(1, df)\n",
    "feb = subtable(2, df)\n",
    "march = subtable(3, df)\n",
    "april = subtable(4, df)\n",
    "may = subtable(5, df)\n",
    "june = subtable(6, df)\n",
    "\n",
    "engaged0 = jan.groupby(['name','month'])\n",
    "engaged1 = jan[jan['name'].isin(feb['name'])]\n",
    "engaged2 = engaged1[engaged1['name'].isin(march['name'])]\n",
    "engaged3 = engaged2[engaged2['name'].isin(april['name'])]\n",
    "engaged4 = engaged3[engaged3['name'].isin(may['name'])]\n",
    "engaged5 = engaged4[engaged4['name'].isin(june['name'])]\n",
    "\n",
    "engaged.append(len(engaged0))\n",
    "engaged.append(len(engaged1.groupby(['name', 'month'])))\n",
    "engaged.append(len(engaged2.groupby(['name', 'month'])))\n",
    "engaged.append(len(engaged3.groupby(['name', 'month'])))\n",
    "engaged.append(len(engaged4.groupby(['name', 'month'])))\n",
    "engaged.append(len(engaged5.groupby(['name', 'month'])))\n"
   ]
  },
  {
   "cell_type": "code",
   "execution_count": 5,
   "id": "33dfc7e8",
   "metadata": {},
   "outputs": [
    {
     "data": {
      "text/html": [
       "<div>\n",
       "<style scoped>\n",
       "    .dataframe tbody tr th:only-of-type {\n",
       "        vertical-align: middle;\n",
       "    }\n",
       "\n",
       "    .dataframe tbody tr th {\n",
       "        vertical-align: top;\n",
       "    }\n",
       "\n",
       "    .dataframe thead th {\n",
       "        text-align: right;\n",
       "    }\n",
       "</style>\n",
       "<table border=\"1\" class=\"dataframe\">\n",
       "  <thead>\n",
       "    <tr style=\"text-align: right;\">\n",
       "      <th>month</th>\n",
       "      <th>January</th>\n",
       "      <th>February</th>\n",
       "      <th>March</th>\n",
       "      <th>April</th>\n",
       "      <th>May</th>\n",
       "      <th>June</th>\n",
       "    </tr>\n",
       "  </thead>\n",
       "  <tbody>\n",
       "    <tr>\n",
       "      <th>repeat</th>\n",
       "      <td>0</td>\n",
       "      <td>5172</td>\n",
       "      <td>5216</td>\n",
       "      <td>5154</td>\n",
       "      <td>5110</td>\n",
       "      <td>5193</td>\n",
       "    </tr>\n",
       "    <tr>\n",
       "      <th>inactive</th>\n",
       "      <td>0</td>\n",
       "      <td>1416</td>\n",
       "      <td>1415</td>\n",
       "      <td>1468</td>\n",
       "      <td>1446</td>\n",
       "      <td>1375</td>\n",
       "    </tr>\n",
       "    <tr>\n",
       "      <th>engaged</th>\n",
       "      <td>6588</td>\n",
       "      <td>5172</td>\n",
       "      <td>4126</td>\n",
       "      <td>3289</td>\n",
       "      <td>2667</td>\n",
       "      <td>2190</td>\n",
       "    </tr>\n",
       "  </tbody>\n",
       "</table>\n",
       "</div>"
      ],
      "text/plain": [
       "month     January  February  March  April   May  June\n",
       "repeat          0      5172   5216   5154  5110  5193\n",
       "inactive        0      1416   1415   1468  1446  1375\n",
       "engaged      6588      5172   4126   3289  2667  2190"
      ]
     },
     "execution_count": 5,
     "metadata": {},
     "output_type": "execute_result"
    }
   ],
   "source": [
    "customers = pd.DataFrame()\n",
    "customers['month'] = [\"January\", \"February\", \"March\", \"April\", \"May\", \"June\"]\n",
    "customers['repeat'] = repeating\n",
    "customers['inactive'] = inactive\n",
    "customers['engaged'] = engaged\n",
    "customers = customers.set_index('month')\n",
    "customers = customers.T\n",
    "customers"
   ]
  },
  {
   "cell_type": "code",
   "execution_count": 12,
   "id": "c483366d",
   "metadata": {},
   "outputs": [
    {
     "data": {
      "text/plain": [
       "<AxesSubplot:xlabel='month'>"
      ]
     },
     "execution_count": 12,
     "metadata": {},
     "output_type": "execute_result"
    },
    {
     "data": {
      "image/png": "[encoded data removed]",
      "text/plain": [
       "<Figure size 432x288 with 1 Axes>"
      ]
     },
     "metadata": {
      "needs_background": "light"
     },
     "output_type": "display_data"
    }
   ],
   "source": [
    "#bar graph of repeating customers per month\n",
    "repeat_customers = pd.DataFrame()\n",
    "repeat_customers['month'] = [\"January\", \"February\", \"March\", \"April\", \"May\", \"June\"]\n",
    "repeat_customers['repeat'] = repeating\n",
    "repeat_customers = repeat_customers.set_index('month')\n",
    "repeat_customers.plot(kind = 'bar')"
   ]
  },
  {
   "cell_type": "code",
   "execution_count": 13,
   "id": "2b64863a",
   "metadata": {},
   "outputs": [
    {
     "data": {
      "text/plain": [
       "<AxesSubplot:xlabel='month'>"
      ]
     },
     "execution_count": 13,
     "metadata": {},
     "output_type": "execute_result"
    },
    {
     "data": {
      "image/png": "[encoded data removed]",
      "text/plain": [
       "<Figure size 432x288 with 1 Axes>"
      ]
     },
     "metadata": {
      "needs_background": "light"
     },
     "output_type": "display_data"
    }
   ],
   "source": [
    "#bar graph of inactive customers per month\n",
    "inactive_customers = pd.DataFrame()\n",
    "inactive_customers['month'] = [\"January\", \"February\", \"March\", \"April\", \"May\", \"June\"]\n",
    "inactive_customers['repeat'] = inactive\n",
    "inactive_customers = inactive_customers.set_index('month')\n",
    "inactive_customers.plot(kind = 'bar')"
   ]
  },
  {
   "cell_type": "code",
   "execution_count": 14,
   "id": "05b76540",
   "metadata": {},
   "outputs": [
    {
     "data": {
      "text/plain": [
       "<AxesSubplot:xlabel='month'>"
      ]
     },
     "execution_count": 14,
     "metadata": {},
     "output_type": "execute_result"
    },
    {
     "data": {
      "image/png": "[encoded data removed]",
      "text/plain": [
       "<Figure size 432x288 with 1 Axes>"
      ]
     },
     "metadata": {
      "needs_background": "light"
     },
     "output_type": "display_data"
    }
   ],
   "source": [
    "#bar graph of engaged customers per month\n",
    "engaged_customers = pd.DataFrame()\n",
    "engaged_customers['month'] = [\"January\", \"February\", \"March\", \"April\", \"May\", \"June\"]\n",
    "engaged_customers['repeat'] = engaged\n",
    "engaged_customers = engaged_customers.set_index('month')\n",
    "engaged_customers.plot(kind = 'bar')"
   ]
  }
 ],
 "metadata": {
  "kernelspec": {
   "display_name": "Python 3 (ipykernel)",
   "language": "python",
   "name": "python3"
  },
  "language_info": {
   "codemirror_mode": {
    "name": "ipython",
    "version": 3
   },
   "file_extension": ".py",
   "mimetype": "text/x-python",
   "name": "python",
   "nbconvert_exporter": "python",
   "pygments_lexer": "ipython3",
   "version": "3.9.12"
  }
 },
 "nbformat": 4,
 "nbformat_minor": 5
}
