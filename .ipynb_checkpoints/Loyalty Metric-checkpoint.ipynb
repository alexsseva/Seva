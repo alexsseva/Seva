{
 "cells": [
  {
   "cell_type": "code",
   "execution_count": 10,
   "id": "479ac3ae",
   "metadata": {},
   "outputs": [],
   "source": [
    "import pandas as pd\n",
    "\n",
    "df = pd.read_json('transaction-data-adhoc-analysis.json')"
   ]
  },
  {
   "cell_type": "code",
   "execution_count": 11,
   "id": "e314051f",
   "metadata": {},
   "outputs": [],
   "source": [
    "df['date'] = pd.to_datetime(df['transaction_date'])"
   ]
  },
  {
   "cell_type": "code",
   "execution_count": 12,
   "id": "e24abc10",
   "metadata": {},
   "outputs": [],
   "source": [
    "df['date'] = df['date'].dt.strftime('%Y-%m')\n",
    "\n",
    "# counts customer per month\n",
    "test = df.groupby(pd.Grouper(key='date', axis=0)).count()\n",
    "\n",
    "# create new table with months and number of repeaters\n",
    "test2 = pd.DataFrame(index=test.index)\n",
    "\n",
    "# create repeaters column\n",
    "test2['repeaters'] = \"\"\n",
    "repeaters = []\n",
    "month = 1\n",
    "currentmonth = \"2022-02\"\n",
    "lastmonth = \"2022-01\"\n",
    "\n",
    "for row in range(len(test.index)):\n",
    "    x = df[df[\"date\"] == lastmonth][df[df[\"date\"] == lastmonth][\"name\"].isin(df[df[\"date\"] == currentmonth][\"name\"])].count()\n",
    "    if month == 1:\n",
    "        repeaters.append(0)\n",
    "    else:\n",
    "        repeaters.append(x['date'])\n",
    "    currentmonth = currentmonth[:len(currentmonth)-1] + str(month + 1)\n",
    "    lastmonth = lastmonth[:len(lastmonth)-1] + str(month)\n",
    "    month = month + 1\n",
    "    \n",
    "test2['repeaters'] = repeaters\n",
    "test2[\"month\"] = [\"January\", \"February\", \"March\", \"April\", \"May\", \"June\"]\n",
    "test2 = test2.set_index('month')\n",
    "test2 = test2.T\n"
   ]
  },
  {
   "cell_type": "code",
   "execution_count": 14,
   "id": "a03e71a1",
   "metadata": {},
   "outputs": [
    {
     "data": {
      "text/html": [
       "<div>\n",
       "<style scoped>\n",
       "    .dataframe tbody tr th:only-of-type {\n",
       "        vertical-align: middle;\n",
       "    }\n",
       "\n",
       "    .dataframe tbody tr th {\n",
       "        vertical-align: top;\n",
       "    }\n",
       "\n",
       "    .dataframe thead th {\n",
       "        text-align: right;\n",
       "    }\n",
       "</style>\n",
       "<table border=\"1\" class=\"dataframe\">\n",
       "  <thead>\n",
       "    <tr style=\"text-align: right;\">\n",
       "      <th></th>\n",
       "      <th>inactive</th>\n",
       "    </tr>\n",
       "    <tr>\n",
       "      <th>date</th>\n",
       "      <th></th>\n",
       "    </tr>\n",
       "  </thead>\n",
       "  <tbody>\n",
       "    <tr>\n",
       "      <th>2022-01</th>\n",
       "      <td>0</td>\n",
       "    </tr>\n",
       "    <tr>\n",
       "      <th>2022-02</th>\n",
       "      <td>2915</td>\n",
       "    </tr>\n",
       "    <tr>\n",
       "      <th>2022-03</th>\n",
       "      <td>2864</td>\n",
       "    </tr>\n",
       "    <tr>\n",
       "      <th>2022-04</th>\n",
       "      <td>2982</td>\n",
       "    </tr>\n",
       "    <tr>\n",
       "      <th>2022-05</th>\n",
       "      <td>2902</td>\n",
       "    </tr>\n",
       "    <tr>\n",
       "      <th>2022-06</th>\n",
       "      <td>2814</td>\n",
       "    </tr>\n",
       "  </tbody>\n",
       "</table>\n",
       "</div>"
      ],
      "text/plain": [
       "         inactive\n",
       "date             \n",
       "2022-01         0\n",
       "2022-02      2915\n",
       "2022-03      2864\n",
       "2022-04      2982\n",
       "2022-05      2902\n",
       "2022-06      2814"
      ]
     },
     "execution_count": 14,
     "metadata": {},
     "output_type": "execute_result"
    }
   ],
   "source": [
    "# create inactive column\n",
    "inactive = pd.DataFrame(index=test.index)\n",
    "inactive['inactive'] = \"\"\n",
    "inactiveCustomers = []\n",
    "month = 1\n",
    "currentmonth = \"2022-02\"\n",
    "lastmonth = \"2022-01\"\n",
    "\n",
    "for row in range(len(test.index)):\n",
    "    x = df[df[\"date\"] == lastmonth][-df[df[\"date\"] == lastmonth][\"name\"].isin(df[df[\"date\"] == currentmonth][\"name\"])].count()\n",
    "    if month == 1:\n",
    "        inactiveCustomers.append(0)\n",
    "    else:\n",
    "        inactiveCustomers.append(x['date'])\n",
    "    currentmonth = currentmonth[:len(currentmonth)-1] + str(month + 1)\n",
    "    lastmonth = lastmonth[:len(lastmonth)-1] + str(month)\n",
    "    month = month + 1\n",
    "    \n",
    "inactive['inactive'] = inactiveCustomers\n",
    "inactive[\"month\"] ="
   ]
  },
  {
   "cell_type": "code",
   "execution_count": 6,
   "id": "bdf59609",
   "metadata": {
    "scrolled": false
   },
   "outputs": [
    {
     "data": {
      "text/plain": [
       "<AxesSubplot:xlabel='date'>"
      ]
     },
     "execution_count": 6,
     "metadata": {},
     "output_type": "execute_result"
    },
    {
     "data": {
      "image/png": "[encoded data removed]",
      "text/plain": [
       "<Figure size 432x288 with 1 Axes>"
      ]
     },
     "metadata": {
      "needs_background": "light"
     },
     "output_type": "display_data"
    }
   ],
   "source": [
    "test2.plot(kind=\"bar\")"
   ]
  },
  {
   "cell_type": "code",
   "execution_count": null,
   "id": "ff8243fd",
   "metadata": {},
   "outputs": [],
   "source": []
  },
  {
   "cell_type": "code",
   "execution_count": null,
   "id": "ee3ad5e9",
   "metadata": {},
   "outputs": [],
   "source": []
  },
  {
   "cell_type": "code",
   "execution_count": null,
   "id": "b869fa28",
   "metadata": {},
   "outputs": [],
   "source": []
  },
  {
   "cell_type": "code",
   "execution_count": null,
   "id": "0235376b",
   "metadata": {},
   "outputs": [],
   "source": []
  },
  {
   "cell_type": "code",
   "execution_count": null,
   "id": "0c514d7f",
   "metadata": {},
   "outputs": [],
   "source": []
  },
  {
   "cell_type": "code",
   "execution_count": null,
   "id": "b0b15095",
   "metadata": {},
   "outputs": [],
   "source": []
  },
  {
   "cell_type": "code",
   "execution_count": null,
   "id": "f412bd5e",
   "metadata": {},
   "outputs": [],
   "source": []
  }
 ],
 "metadata": {
  "kernelspec": {
   "display_name": "Python 3 (ipykernel)",
   "language": "python",
   "name": "python3"
  },
  "language_info": {
   "codemirror_mode": {
    "name": "ipython",
    "version": 3
   },
   "file_extension": ".py",
   "mimetype": "text/x-python",
   "name": "python",
   "nbconvert_exporter": "python",
   "pygments_lexer": "ipython3",
   "version": "3.9.12"
  }
 },
 "nbformat": 4,
 "nbformat_minor": 5
}
